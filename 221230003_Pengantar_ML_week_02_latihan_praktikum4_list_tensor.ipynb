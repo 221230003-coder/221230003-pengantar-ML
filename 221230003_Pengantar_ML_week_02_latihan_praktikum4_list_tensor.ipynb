{
  "nbformat": 4,
  "nbformat_minor": 0,
  "metadata": {
    "colab": {
      "provenance": [],
      "authorship_tag": "ABX9TyP45qBqaRG2yvSDw+gKTjSp",
      "include_colab_link": true
    },
    "kernelspec": {
      "name": "python3",
      "display_name": "Python 3"
    },
    "language_info": {
      "name": "python"
    }
  },
  "cells": [
    {
      "cell_type": "markdown",
      "metadata": {
        "id": "view-in-github",
        "colab_type": "text"
      },
      "source": [
        "<a href=\"https://colab.research.google.com/github/221230003-coder/221230003-pengantar-ML/blob/main/221230003_Pengantar_ML_week_02_latihan_praktikum4_list_tensor.ipynb\" target=\"_parent\"><img src=\"https://colab.research.google.com/assets/colab-badge.svg\" alt=\"Open In Colab\"/></a>"
      ]
    },
    {
      "cell_type": "code",
      "execution_count": 3,
      "metadata": {
        "colab": {
          "base_uri": "https://localhost:8080/"
        },
        "id": "3Sj64UI8fpdR",
        "outputId": "7ffb5501-866b-4d63-b160-2cee5b747cf0"
      },
      "outputs": [
        {
          "output_type": "stream",
          "name": "stdout",
          "text": [
            "✅ Linear layer output (first 5 rows):\n",
            " tensor([[ 2.6718],\n",
            "        [-1.5847],\n",
            "        [ 0.3128],\n",
            "        [-3.3263],\n",
            "        [-0.8955]])\n",
            "\n",
            "✅ ReLU activated output (first 5 rows):\n",
            " tensor([[2.6718],\n",
            "        [0.0000],\n",
            "        [0.3128],\n",
            "        [0.0000],\n",
            "        [0.0000]])\n",
            "\n",
            "✅ Batch normalized X (first 5 rows):\n",
            " tensor([[ 0.6221,  0.3032,  0.0686,  0.4586,  1.0745, -0.3614,  1.8699,  0.1732,\n",
            "         -1.6632,  0.6986],\n",
            "        [ 0.1064,  0.4986, -0.0759, -0.1752,  1.6651, -0.9423,  1.6984, -1.5373,\n",
            "          2.0250,  0.4460],\n",
            "        [-0.5217,  0.1390,  1.0684, -1.6947,  1.4526, -1.4214, -0.9763, -0.2059,\n",
            "          1.0627, -1.2268],\n",
            "        [-1.3924,  1.6212, -1.1213,  2.1118, -0.8727,  0.0708, -0.0924, -0.4911,\n",
            "          0.9381,  0.8000],\n",
            "        [ 0.3211,  1.9201, -1.4037, -0.8061, -1.5591,  0.0146,  0.0959,  1.6470,\n",
            "          0.3071, -0.3647]])\n",
            "\n",
            "✅ One-hot encoded labels:\n",
            " tensor([[0., 0., 1.],\n",
            "        [0., 0., 1.],\n",
            "        [0., 1., 0.],\n",
            "        [1., 0., 0.],\n",
            "        [0., 1., 0.],\n",
            "        [1., 0., 0.],\n",
            "        [0., 0., 1.],\n",
            "        [1., 0., 0.],\n",
            "        [0., 0., 1.],\n",
            "        [1., 0., 0.]])\n",
            "\n",
            "✅ Manual matrix multiplication result:\n",
            " tensor([[19., 22.],\n",
            "        [43., 50.]])\n",
            "\n",
            "✅ Torch.matmul result:\n",
            " tensor([[19., 22.],\n",
            "        [43., 50.]])\n",
            "✅ Semua operasi PyTorch berhasil dijalankan\n"
          ]
        }
      ],
      "source": [
        "import torch\n",
        "\n",
        "# Simulasi batch data: 32 samples, 10 features\n",
        "batch_size, n_features = 32, 10\n",
        "X = torch.randn(batch_size, n_features)\n",
        "weights = torch.randn(n_features, 1)\n",
        "bias = torch.randn(1)\n",
        "\n",
        "# TODO 1: Implementasi linear layer manual: y = XW + b\n",
        "def linear_layer(X, W, b):\n",
        "    return torch.matmul(X, W) + b\n",
        "\n",
        "output = linear_layer(X, weights, bias)\n",
        "\n",
        "# TODO 2: Implementasi ReLU activation function\n",
        "def relu_activation(tensor):\n",
        "    return torch.maximum(torch.tensor(0.0), tensor)\n",
        "\n",
        "activated = relu_activation(output)\n",
        "\n",
        "# TODO 3: Batch normalization sederhana\n",
        "def simple_batch_norm(tensor, eps=1e-5):\n",
        "    mean = tensor.mean(dim=0, keepdim=True)\n",
        "    std = tensor.std(dim=0, unbiased=False, keepdim=True)\n",
        "    return (tensor - mean) / (std + eps)\n",
        "\n",
        "normalized = simple_batch_norm(X)\n",
        "\n",
        "# TODO 4: One-hot encoding manual\n",
        "def one_hot_pytorch(labels, num_classes):\n",
        "    one_hot = torch.zeros(labels.size(0), num_classes)\n",
        "    one_hot[torch.arange(labels.size(0)), labels] = 1\n",
        "    return one_hot\n",
        "\n",
        "labels = torch.randint(0, 3, (10,))\n",
        "one_hot = one_hot_pytorch(labels, num_classes=3)\n",
        "\n",
        "# ✅ Assertions\n",
        "assert output.shape == (batch_size, 1), \"Linear output shape incorrect\"\n",
        "assert torch.all(activated >= 0), \"ReLU should be >= 0\"\n",
        "assert normalized.shape == X.shape, \"Batch norm should preserve shape\"\n",
        "assert one_hot.shape == (10, 3), \"One-hot shape incorrect\"\n",
        "\n",
        "# === CETAK HASIL ===\n",
        "print(\"✅ Linear layer output (first 5 rows):\\n\", output[:5])\n",
        "print(\"\\n✅ ReLU activated output (first 5 rows):\\n\", activated[:5])\n",
        "print(\"\\n✅ Batch normalized X (first 5 rows):\\n\", normalized[:5])\n",
        "print(\"\\n✅ One-hot encoded labels:\\n\", one_hot)\n",
        "\n",
        "### BONUS: ADVANCED TENSOR OPERATIONS ###\n",
        "def manual_matrix_multiply(A, B):\n",
        "    rows_A, cols_A = A.shape\n",
        "    rows_B, cols_B = B.shape\n",
        "    result = torch.zeros(rows_A, cols_B)\n",
        "    for i in range(rows_A):\n",
        "        for j in range(cols_B):\n",
        "            for k in range(cols_A):\n",
        "                result[i, j] += A[i, k] * B[k, j]\n",
        "    return result\n",
        "\n",
        "# Test dengan matriks kecil\n",
        "A = torch.tensor([[1, 2], [3, 4]], dtype=torch.float32)\n",
        "B = torch.tensor([[5, 6], [7, 8]], dtype=torch.float32)\n",
        "\n",
        "manual_result = manual_matrix_multiply(A, B)\n",
        "torch_result = torch.matmul(A, B)\n",
        "\n",
        "print(\"\\n✅ Manual matrix multiplication result:\\n\", manual_result)\n",
        "print(\"\\n✅ Torch.matmul result:\\n\", torch_result)\n",
        "print(\"✅ Semua operasi PyTorch berhasil dijalankan\")\n"
      ]
    }
  ]
}