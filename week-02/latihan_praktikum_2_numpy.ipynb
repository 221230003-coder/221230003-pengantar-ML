{
  "nbformat": 4,
  "nbformat_minor": 0,
  "metadata": {
    "colab": {
      "provenance": [],
      "name": "latihan-praktikum-2-numpy.ipynb",
      "authorship_tag": "ABX9TyNChes0Du38yPkZXAtWMsOa",
      "include_colab_link": true
    },
    "kernelspec": {
      "name": "python3",
      "display_name": "Python 3"
    },
    "language_info": {
      "name": "python"
    }
  },
  "cells": [
    {
      "cell_type": "markdown",
      "metadata": {
        "id": "view-in-github",
        "colab_type": "text"
      },
      "source": [
        "<a href=\"https://colab.research.google.com/github/221230003-coder/221230003-pengantar-ML/blob/main/week-02/latihan_praktikum_2_numpy.ipynb\" target=\"_parent\"><img src=\"https://colab.research.google.com/assets/colab-badge.svg\" alt=\"Open In Colab\"/></a>"
      ]
    },
    {
      "cell_type": "code",
      "execution_count": null,
      "metadata": {
        "colab": {
          "base_uri": "https://localhost:8080/"
        },
        "id": "dKQR4DUqi7Sk",
        "outputId": "729e14dc-2fb3-4e20-e634-45a56c191650"
      },
      "outputs": [
        {
          "output_type": "stream",
          "name": "stdout",
          "text": [
            "✅ Semua fungsi berjalan dengan baik!\n",
            "✅ NumPy operations completed\n",
            "X_normalized:\n",
            " [[ 0.60442 -0.2198   0.75746  1.46109 -0.18919]\n",
            " [-0.21141  1.53421  0.87977 -0.62586  0.53845]\n",
            " [-0.46735 -0.55422  0.34304 -2.1381  -1.58579]\n",
            " [-0.57772 -1.11296  0.41687 -1.08519 -1.29292]\n",
            " [ 1.68601 -0.30917  0.16486 -1.62641 -0.47983]]\n",
            "X_cleaned:\n",
            " [[ 0.60442 -0.2198   0.75746  1.46109 -0.18919]\n",
            " [-0.21141  1.53421  0.87977 -0.62586  0.53845]\n",
            " [-0.46735 -0.55422  0.34304 -2.1381  -1.58579]\n",
            " [-0.57772 -1.11296  0.41687 -1.08519 -1.29292]\n",
            " [ 1.68601 -0.30917  0.16486 -1.62641 -0.47983]]\n",
            "One-hot labels:\n",
            " [[1 0 0]\n",
            " [0 1 0]\n",
            " [0 0 1]\n",
            " [1 0 0]\n",
            " [0 1 0]\n",
            " [0 0 1]\n",
            " [1 0 0]]\n"
          ]
        }
      ],
      "source": [
        "import numpy as np\n",
        "\n",
        "# 🎯 SOLUSI PRAKTIKUM 2: NUMPY - Data Preprocessing\n",
        "\n",
        "# Dataset simulasi: 100 samples, 5 features\n",
        "np.random.seed(42)\n",
        "X = np.random.randn(100, 5) * 10 + 5  # Mean=5, Std=10\n",
        "\n",
        "# 1. Z-score Normalization\n",
        "def z_score_normalization(data):\n",
        "    if not isinstance(data, np.ndarray):\n",
        "        raise TypeError(\"Input harus berupa NumPy array\")\n",
        "    mean = np.mean(data, axis=0)\n",
        "    std = np.std(data, axis=0)\n",
        "    std[std == 0] = 1\n",
        "    return (data - mean) / std\n",
        "\n",
        "X_normalized = z_score_normalization(X)\n",
        "\n",
        "# 2. Outlier Handling (clipping)\n",
        "def handle_outliers(data, std_threshold=3):\n",
        "    if not isinstance(data, np.ndarray):\n",
        "        raise TypeError(\"Input harus berupa NumPy array\")\n",
        "    mean = np.mean(data, axis=0)\n",
        "    std = np.std(data, axis=0)\n",
        "    lower_bound = mean - std_threshold * std\n",
        "    upper_bound = mean + std_threshold * std\n",
        "    return np.clip(data, lower_bound, upper_bound)\n",
        "\n",
        "X_cleaned = handle_outliers(X_normalized)\n",
        "\n",
        "# 3. One-hot Encoding\n",
        "def one_hot_encoding(labels):\n",
        "    if not isinstance(labels, np.ndarray):\n",
        "        raise TypeError(\"Labels harus berupa NumPy array\")\n",
        "    if labels.ndim != 1:\n",
        "        raise ValueError(\"Labels harus berupa array 1D\")\n",
        "    n_classes = np.max(labels) + 1\n",
        "    one_hot = np.zeros((labels.shape[0], n_classes), dtype=int)\n",
        "    one_hot[np.arange(labels.shape[0]), labels] = 1\n",
        "    return one_hot\n",
        "\n",
        "labels = np.array([0, 1, 2, 0, 1, 2, 0])\n",
        "one_hot_labels = one_hot_encoding(labels)\n",
        "\n",
        "# 4. Train-Test Split (manual)\n",
        "def train_test_split_numpy(X, y, test_size=0.2, random_state=None):\n",
        "    if random_state is not None:\n",
        "        np.random.seed(random_state)\n",
        "    n_samples = X.shape[0]\n",
        "    indices = np.arange(n_samples)\n",
        "    np.random.shuffle(indices)\n",
        "    n_test = int(n_samples * test_size)\n",
        "    test_idx = indices[:n_test]\n",
        "    train_idx = indices[n_test:]\n",
        "    return X[train_idx], X[test_idx], y[train_idx], y[test_idx]\n",
        "\n",
        "y = np.random.randint(0, 3, 100)\n",
        "X_train, X_test, y_train, y_test = train_test_split_numpy(X, y, test_size=0.2, random_state=42)\n",
        "\n",
        "\n",
        "# 🔍 Validasi & Output\n",
        "assert X_normalized.shape == X.shape, \"Shape harus sama\"\n",
        "assert np.allclose(X_normalized.mean(axis=0), 0, atol=1e-10), \"Mean ~0 setelah normalisasi\"\n",
        "assert np.allclose(X_normalized.std(axis=0), 1, atol=1e-10), \"Std ~1 setelah normalisasi\"\n",
        "assert one_hot_labels.shape == (7, 3), \"Shape one-hot salah\"\n",
        "\n",
        "print(\"✅ Semua fungsi berjalan dengan baik!\")\n",
        "print(\"✅ NumPy operations completed\")\n",
        "print(\"X_normalized:\\n\", np.round(X_normalized[:5], 5))  # tampilkan 5 baris pertama\n",
        "print(\"X_cleaned:\\n\", np.round(X_cleaned[:5], 5))        # tampilkan 5 baris pertama\n",
        "print(\"One-hot labels:\\n\", one_hot_labels)\n"
      ]
    }
  ]
}